{
 "cells": [
  {
   "cell_type": "code",
   "execution_count": 1,
   "id": "33cd0f3e-9443-47af-8ae2-24b50b751609",
   "metadata": {
    "tags": []
   },
   "outputs": [],
   "source": [
    "import pyspark\n",
    "import os\n",
    "import json\n",
    "import argparse\n",
    "\n",
    "from dotenv import load_dotenv\n",
    "from pathlib import Path\n",
    "from pyspark.sql.types import StructType\n",
    "from pyspark.sql.functions import col, sum as _sum, to_date, sum, format_number\n"
   ]
  },
  {
   "cell_type": "code",
   "execution_count": 2,
   "id": "ee120f3c-5c84-4341-a828-c73128334168",
   "metadata": {},
   "outputs": [
    {
     "data": {
      "text/plain": [
       "True"
      ]
     },
     "execution_count": 2,
     "metadata": {},
     "output_type": "execute_result"
    }
   ],
   "source": [
    "dotenv_path = Path('/resources/.env')\n",
    "load_dotenv(dotenv_path=dotenv_path)"
   ]
  },
  {
   "cell_type": "code",
   "execution_count": 3,
   "id": "48630177-8bfd-4f91-9af7-d55df9ea2376",
   "metadata": {
    "tags": []
   },
   "outputs": [],
   "source": [
    "postgres_host = os.getenv('POSTGRES_CONTAINER_NAME')\n",
    "postgres_dw_db = os.getenv('POSTGRES_DW_DB')\n",
    "postgres_user = os.getenv('POSTGRES_USER')\n",
    "postgres_password = os.getenv('POSTGRES_PASSWORD')"
   ]
  },
  {
   "cell_type": "code",
   "execution_count": 4,
   "id": "ec4f7c88-9e05-444a-b7be-f0b00ccec4f1",
   "metadata": {},
   "outputs": [],
   "source": [
    "sparkcontext = pyspark.SparkContext.getOrCreate(conf=(\n",
    "        pyspark\n",
    "        .SparkConf()\n",
    "        .setAppName('Assignment_Day15')\n",
    "        .setMaster('local')\n",
    "        .set(\"spark.jars\", \"/opt/postgresql-42.2.18.jar\")\n",
    "    ))\n",
    "sparkcontext.setLogLevel(\"WARN\")\n",
    "spark = pyspark.sql.SparkSession(sparkcontext.getOrCreate())"
   ]
  },
  {
   "cell_type": "code",
   "execution_count": 5,
   "id": "d08479d7-9932-465f-acc0-1f2577bad377",
   "metadata": {},
   "outputs": [
    {
     "data": {
      "text/html": [
       "\n",
       "            <div>\n",
       "                <p><b>SparkSession - in-memory</b></p>\n",
       "                \n",
       "        <div>\n",
       "            <p><b>SparkContext</b></p>\n",
       "\n",
       "            <p><a href=\"http://dibimbing-jupyter:4040\">Spark UI</a></p>\n",
       "\n",
       "            <dl>\n",
       "              <dt>Version</dt>\n",
       "                <dd><code>v3.3.2</code></dd>\n",
       "              <dt>Master</dt>\n",
       "                <dd><code>local</code></dd>\n",
       "              <dt>AppName</dt>\n",
       "                <dd><code>Assignment_Day15</code></dd>\n",
       "            </dl>\n",
       "        </div>\n",
       "        \n",
       "            </div>\n",
       "        "
      ],
      "text/plain": [
       "<pyspark.sql.session.SparkSession at 0x7fcd7c77b010>"
      ]
     },
     "execution_count": 5,
     "metadata": {},
     "output_type": "execute_result"
    }
   ],
   "source": [
    "spark"
   ]
  },
  {
   "cell_type": "code",
   "execution_count": 6,
   "id": "0fb84a3b-4515-4ec4-8dc9-9061f683d20e",
   "metadata": {},
   "outputs": [],
   "source": [
    "jdbc_url = f'jdbc:postgresql://{postgres_host}/{postgres_dw_db}'\n",
    "table_name = 'public.retail'\n",
    "prop = {\n",
    "    'user': postgres_user,\n",
    "    'password': postgres_password,\n",
    "    'driver': 'org.postgresql.Driver',\n",
    "    'stringtype': 'unspecified'\n",
    "}\n",
    "retail_df = spark.read.jdbc(\n",
    "    jdbc_url,\n",
    "    table_name,\n",
    "    properties=prop\n",
    ")"
   ]
  },
  {
   "cell_type": "code",
   "execution_count": 7,
   "id": "1c01c820-294e-4f20-8d23-0efccc38a407",
   "metadata": {},
   "outputs": [
    {
     "name": "stdout",
     "output_type": "stream",
     "text": [
      "root\n",
      " |-- invoiceno: string (nullable = true)\n",
      " |-- stockcode: string (nullable = true)\n",
      " |-- description: string (nullable = true)\n",
      " |-- quantity: integer (nullable = true)\n",
      " |-- invoicedate: date (nullable = true)\n",
      " |-- unitprice: double (nullable = true)\n",
      " |-- customerid: string (nullable = true)\n",
      " |-- country: string (nullable = true)\n",
      "\n"
     ]
    }
   ],
   "source": [
    "retail_df.printSchema()"
   ]
  },
  {
   "cell_type": "code",
   "execution_count": 8,
   "id": "63d2c82f-eb23-4335-85b4-cb3280544792",
   "metadata": {
    "tags": []
   },
   "outputs": [
    {
     "name": "stdout",
     "output_type": "stream",
     "text": [
      "+---------+---------+--------------------+--------+-----------+---------+----------+--------------+\n",
      "|invoiceno|stockcode|         description|quantity|invoicedate|unitprice|customerid|       country|\n",
      "+---------+---------+--------------------+--------+-----------+---------+----------+--------------+\n",
      "|   536365|   85123A|WHITE HANGING HEA...|       6| 2010-12-01|     2.55|     17850|United Kingdom|\n",
      "|   536365|    71053| WHITE METAL LANTERN|       6| 2010-12-01|     3.39|     17850|United Kingdom|\n",
      "|   536365|   84406B|CREAM CUPID HEART...|       8| 2010-12-01|     2.75|     17850|United Kingdom|\n",
      "|   536365|   84029G|KNITTED UNION FLA...|       6| 2010-12-01|     3.39|     17850|United Kingdom|\n",
      "|   536365|   84029E|RED WOOLLY HOTTIE...|       6| 2010-12-01|     3.39|     17850|United Kingdom|\n",
      "|   536365|    22752|SET 7 BABUSHKA NE...|       2| 2010-12-01|     7.65|     17850|United Kingdom|\n",
      "|   536365|    21730|GLASS STAR FROSTE...|       6| 2010-12-01|     4.25|     17850|United Kingdom|\n",
      "|   536366|    22633|HAND WARMER UNION...|       6| 2010-12-01|     1.85|     17850|United Kingdom|\n",
      "|   536366|    22632|HAND WARMER RED P...|       6| 2010-12-01|     1.85|     17850|United Kingdom|\n",
      "|   536367|    84879|ASSORTED COLOUR B...|      32| 2010-12-01|     1.69|     13047|United Kingdom|\n",
      "+---------+---------+--------------------+--------+-----------+---------+----------+--------------+\n",
      "only showing top 10 rows\n",
      "\n"
     ]
    }
   ],
   "source": [
    "retail_df.show(10)"
   ]
  },
  {
   "cell_type": "code",
   "execution_count": 9,
   "id": "264b0ad8-b40b-455b-8c3b-4997c914d8e9",
   "metadata": {
    "tags": []
   },
   "outputs": [],
   "source": [
    "# # Calculate the total spending per invoice line\n",
    "# spending_df = retail_df.withColumn('total_spending', col('quantity') * col('unitprice'))\n",
    "\n",
    "# # Group by country and calculate the total spending per country\n",
    "# country_spending = spending_df.groupBy('country').agg(_sum('total_spending').alias('total_spending'))\n",
    "\n",
    "# # Format the total_spending column to 2 decimal places\n",
    "# country_spending = country_spending.withColumn('total_spending', format_number('total_spending', 2))\n",
    "\n",
    "# # Show the result\n",
    "# country_spending.show()"
   ]
  },
  {
   "cell_type": "code",
   "execution_count": 10,
   "id": "c73a0088-96ad-4f05-9018-1e9cc7de7a9f",
   "metadata": {
    "tags": []
   },
   "outputs": [
    {
     "name": "stdout",
     "output_type": "stream",
     "text": [
      "+-----------+--------------------+--------------------+\n",
      "|invoicedate|Total_Item_Purchased|Total_Customer_Spent|\n",
      "+-----------+--------------------+--------------------+\n",
      "| 2011-01-30|            3,367.00|            2,321.72|\n",
      "| 2011-05-06|           19,632.00|            7,276.01|\n",
      "| 2011-10-07|           30,431.00|           13,428.76|\n",
      "| 2011-01-23|            5,194.00|            2,611.96|\n",
      "| 2011-07-07|           18,956.00|            6,634.44|\n",
      "| 2011-07-18|           14,366.00|           27,456.49|\n",
      "| 2011-08-21|            8,164.00|            3,326.30|\n",
      "| 2011-11-18|           23,535.00|           12,070.65|\n",
      "| 2010-12-15|           18,229.00|            4,819.31|\n",
      "| 2010-12-01|           26,814.00|           12,904.25|\n",
      "| 2011-11-14|           45,959.00|           15,262.54|\n",
      "| 2011-02-21|           21,456.00|           17,596.67|\n",
      "| 2011-04-06|            8,576.00|            3,770.26|\n",
      "| 2011-06-21|            7,846.00|            6,712.19|\n",
      "| 2011-09-04|           10,941.00|            3,688.45|\n",
      "| 2011-08-30|           10,182.00|           15,682.57|\n",
      "| 2011-07-06|           19,275.00|            5,157.59|\n",
      "| 2011-04-27|           17,836.00|            4,271.07|\n",
      "| 2011-10-23|            7,068.00|            4,753.19|\n",
      "| 2011-08-05|           12,200.00|            4,666.74|\n",
      "+-----------+--------------------+--------------------+\n",
      "only showing top 20 rows\n",
      "\n"
     ]
    }
   ],
   "source": [
    "# Convert invoicedate to date type\n",
    "DateInvoice_df = retail_df.withColumn('invoicedate', to_date(col('invoicedate')))\n",
    "\n",
    "# Aggregate data by customerid and invoicedate\n",
    "Date_analysis = DateInvoice_df.groupBy('invoicedate').agg(\n",
    "    _sum('quantity').alias('Total_Item_Purchased'),\n",
    "    _sum('unitprice').alias('Total_Customer_Spent')\n",
    ")\n",
    "# Format the total_quantity and total_unitprice columns to 2 decimal places\n",
    "Date_analysis = Date_analysis.withColumn('Total_Item_Purchased', format_number('Total_Item_Purchased', 2)) \\\n",
    "                             .withColumn('Total_Customer_Spent', format_number('Total_Customer_Spent', 2))\n",
    "\n",
    "# Show the result\n",
    "Date_analysis.show()"
   ]
  },
  {
   "cell_type": "code",
   "execution_count": 11,
   "id": "cfaba02e-bd31-4f08-876a-814b484e7ac6",
   "metadata": {
    "tags": []
   },
   "outputs": [],
   "source": [
    "Date_analysis.write.jdbc(\n",
    "    url=jdbc_url,\n",
    "    table=\"StockSpent_analysis_jupyter\",\n",
    "    mode=\"append\",\n",
    "    properties=prop\n",
    ")"
   ]
  },
  {
   "cell_type": "code",
   "execution_count": null,
   "id": "bb1bb313-b5c4-419f-b121-7977dd73ecfc",
   "metadata": {},
   "outputs": [],
   "source": []
  }
 ],
 "metadata": {
  "kernelspec": {
   "display_name": "Python 3 (ipykernel)",
   "language": "python",
   "name": "python3"
  },
  "language_info": {
   "codemirror_mode": {
    "name": "ipython",
    "version": 3
   },
   "file_extension": ".py",
   "mimetype": "text/x-python",
   "name": "python",
   "nbconvert_exporter": "python",
   "pygments_lexer": "ipython3",
   "version": "3.10.10"
  }
 },
 "nbformat": 4,
 "nbformat_minor": 5
}
